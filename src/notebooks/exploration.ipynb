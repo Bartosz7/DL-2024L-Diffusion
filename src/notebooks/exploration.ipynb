{
 "cells": [
  {
   "cell_type": "markdown",
   "metadata": {},
   "source": [
    "### Computing mean and std of colors for the whole dataset (for normalization)"
   ]
  },
  {
   "cell_type": "code",
   "execution_count": 1,
   "metadata": {},
   "source": [
    "import os\n",
    "import torch\n",
    "import torchvision.transforms as transforms\n",
    "from torchvision.datasets import ImageFolder\n",
    "from torch.utils.data import DataLoader"
   ],
   "outputs": []
  },
  {
   "cell_type": "code",
   "execution_count": 10,
   "metadata": {},
   "source": [
    "from tqdm import tqdm"
   ],
   "outputs": []
  },
  {
   "cell_type": "code",
   "execution_count": 11,
   "metadata": {},
   "source": [
    "def calculate_mean_std(folder_path, target_size=(256, 256), batch_size=32):\n",
    "    # Define transformations to resize images and convert them to tensors\n",
    "    transform = transforms.Compose([\n",
    "        transforms.Resize(target_size),\n",
    "        transforms.ToTensor()\n",
    "    ])\n",
    "\n",
    "    # Create a dataset from the folder with the specified transformations\n",
    "    dataset = ImageFolder(folder_path, transform=transform)\n",
    "\n",
    "    # Create a data loader to iterate over the dataset\n",
    "    data_loader = DataLoader(dataset, batch_size=batch_size, shuffle=False)\n",
    "\n",
    "    # Initialize variables to store the running sum of means and squared means\n",
    "    channels_sum = torch.zeros(3)  # Assuming RGB images\n",
    "    channels_squared_sum = torch.zeros(3)\n",
    "\n",
    "    num_batches = 0\n",
    "\n",
    "    # Iterate over the dataset to compute the sum of means and squared means\n",
    "    for batch_images, _ in tqdm(data_loader):\n",
    "        # Calculate the sum of pixel values along each channel\n",
    "        channels_sum += torch.sum(batch_images, dim=[0, 2, 3])\n",
    "        # Calculate the sum of squared pixel values along each channel\n",
    "        channels_squared_sum += torch.sum(batch_images ** 2, dim=[0, 2, 3])\n",
    "        num_batches += 1\n",
    "\n",
    "    # Calculate the mean and standard deviation across all images\n",
    "    mean = channels_sum / (len(dataset) * target_size[0] * target_size[1])\n",
    "    std = torch.sqrt(\n",
    "        (channels_squared_sum / (len(dataset) * target_size[0] * target_size[1])) - mean ** 2\n",
    "    )\n",
    "\n",
    "    return mean, std\n",
    "\n",
    "# Example usage:\n",
    "folder_path = \"/home/bart_grabek/Documents/DL/DL-2024-Diffusion/data\"\n",
    "mean, std = calculate_mean_std(folder_path)\n",
    "print(\"Mean:\", mean)\n",
    "print(\"Standard Deviation:\", std)\n"
   ],
   "outputs": []
  },
  {
   "cell_type": "code",
   "execution_count": null,
   "metadata": {},
   "source": [],
   "outputs": []
  }
 ],
 "metadata": {
  "kernelspec": {
   "display_name": "venv",
   "language": "python",
   "name": "python3"
  },
  "language_info": {
   "codemirror_mode": {
    "name": "ipython",
    "version": 3
   },
   "file_extension": ".py",
   "mimetype": "text/x-python",
   "name": "python",
   "nbconvert_exporter": "python",
   "pygments_lexer": "ipython3",
   "version": "3.11.7"
  }
 },
 "nbformat": 4,
 "nbformat_minor": 2
}
